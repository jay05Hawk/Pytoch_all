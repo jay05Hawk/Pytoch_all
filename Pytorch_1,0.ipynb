{
  "nbformat": 4,
  "nbformat_minor": 0,
  "metadata": {
    "colab": {
      "private_outputs": true,
      "provenance": [],
      "authorship_tag": "ABX9TyOhI4t+xWJ4RFkgux3ERYNe",
      "include_colab_link": true
    },
    "kernelspec": {
      "name": "python3",
      "display_name": "Python 3"
    },
    "language_info": {
      "name": "python"
    }
  },
  "cells": [
    {
      "cell_type": "markdown",
      "metadata": {
        "id": "view-in-github",
        "colab_type": "text"
      },
      "source": [
        "<a href=\"https://colab.research.google.com/github/jay05Hawk/Pytorch_all/blob/main/Pytorch_1%2C0.ipynb\" target=\"_parent\"><img src=\"https://colab.research.google.com/assets/colab-badge.svg\" alt=\"Open In Colab\"/></a>"
      ]
    },
    {
      "cell_type": "code",
      "metadata": {
        "id": "Rhp2yDgGWPqv"
      },
      "source": [],
      "execution_count": null,
      "outputs": []
    },
    {
      "cell_type": "markdown",
      "source": [
        "# What is PyTorch?\n",
        "\n",
        "PyTorch is a Python-based scientific computing package that uses the power of graphics processing units(GPU). It is also one of the preferred deep learning research platforms built to provide maximum flexibility and speed. It is known for providing two of the most high-level features; namely, tensor computations with strong GPU acceleration support and building deep neural networks on a tape-based autograd systems.\n",
        "\n",
        "There are many existing Python libraries which have the potential to change how deep learning and artificial intelligence are performed, and this is one such library. One of the key reasons behind PyTorch’s success is it is completely Pythonic and one can build neural network models effortlessly. It is still a young player when compared to its other competitors, however, it is gaining momentum fast."
      ],
      "metadata": {
        "id": "y1ZOB8hf1voZ"
      }
    },
    {
      "cell_type": "markdown",
      "source": [
        "## Brief History about PyTorch\n",
        "\n",
        "Since its release in January 2016, many researchers have continued to increasingly adopt PyTorch. It has quickly become a go-to library because of its ease in building extremely complex neural networks. It is giving a tough competition to TensorFlow especially when used for research work. However, there is still some time before it is adopted by the masses due to its still “new” and “under construction” tags.\n",
        "\n",
        "PyTorch creators envisioned this library to be highly imperative which can allow them to run all the numerical computations quickly. This is an ideal methodology which fits perfectly with the Python programming style. It has allowed deep learning scientists, machine learning developers, and neural network debuggers to run and test part of the code in real time. Thus they don’t have to wait for the entire code to be executed to check whether it works or not.\n",
        "You can always use your favorite Python packages such as NumPy, SciPy, and Cython to extend PyTorch functionalities and services when required. Now you might ask, why PyTorch? What’ so special in using it to build deep learning models?\n",
        "\n",
        "The answer is quite simple, PyTorch is a dynamic library (very flexible and you can use as per your requirements and changes) which is currently adopted by many of the researchers, students, and artificial intelligence developers. In the recent Kaggle competition, PyTorch library was used by nearly all of the top 10 finishers.\n",
        "\n",
        "Some of the key highlights of PyTorch includes:\n",
        "\n",
        "__Simple Interface:__ It offers easy to use API, thus it is very simple to operate and run like Python.\n",
        "\n",
        "__Pythonic in nature:__ This library, being Pythonic, smoothly integrates with the Python data science stack. Thus it can leverage all the services and functionalities offered by the Python environment.\n",
        "\n",
        "__Computational graphs:__ In addition to this, PyTorch provides an excellent platform which offers dynamic computational graphs, thus you can change them during runtime. This is highly useful when you have no idea how much memory will be required for creating a neural network model."
      ],
      "metadata": {
        "id": "rIcZtH0k1wAY"
      }
    },
    {
      "cell_type": "code",
      "metadata": {
        "id": "QWzFkaD4WS7Z"
      },
      "source": [],
      "execution_count": null,
      "outputs": []
    },
    {
      "cell_type": "code",
      "metadata": {
        "id": "9hYlNyBDWTHc"
      },
      "source": [
        "dice1 =tf.Variavle(tf.random.uniform([10,1], minval=1, maxval=7, dtype=tf.int16))\n",
        "dice2 =tf.Variavle(tf.random.uniform([10,1], minval=1, maxval=7, dtype=tf.int16))\n",
        "dice_sum dice1+dice2\n",
        "print(dice_sum)"
      ],
      "execution_count": null,
      "outputs": []
    }
  ]
}